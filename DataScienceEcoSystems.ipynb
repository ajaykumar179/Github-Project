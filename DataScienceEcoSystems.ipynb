{
 "cells": [
  {
   "cell_type": "markdown",
   "id": "6beb3a12-5f5a-4a7b-85b1-75e1545dd96d",
   "metadata": {},
   "source": [
    "# Data Science Tools and Ecosystems"
   ]
  },
  {
   "cell_type": "markdown",
   "id": "28bdf7d6-67f1-412c-bbaa-fe6285db6358",
   "metadata": {},
   "source": [
    "In this notebook, Data Science Tools and Ecosystem are summarized.\r\n"
   ]
  },
  {
   "cell_type": "markdown",
   "id": "187e9f4d-5527-4ff1-97c7-56da7145c7d2",
   "metadata": {},
   "source": [
    "**Some of the popular languages that Data Scientists use are:**  \n",
    "Python  \n",
    "R  \n",
    "Julia  \n",
    "and so on"
   ]
  },
  {
   "cell_type": "markdown",
   "id": "2ae62ce3-034c-485c-ab42-c8546c4dfbc7",
   "metadata": {},
   "source": [
    "**Some of the commonly used libraries used by Data Scientists include:**  \r",
    "Matplotlib  \n",
    "Pandas  \n",
    "Numpy  \n",
    "Seaborn  \n",
    "and so on  "
   ]
  },
  {
   "cell_type": "markdown",
   "id": "03218ef3-ec41-4108-981d-3886cfd48e99",
   "metadata": {},
   "source": [
    "| Data Science Tools |\r\n",
    "|--------------------|\r\n",
    "| Jupyter Notebook   |\r\n",
    "| RStudio            |\r\n",
    "| Apache Zeppelin   |\r\n"
   ]
  },
  {
   "cell_type": "markdown",
   "id": "2cef2848-fdc0-4002-87fb-d388e47c18bb",
   "metadata": {},
   "source": [
    "Below are a few examples of evaluating **Arithmetic expressions** in **Python**\n"
   ]
  },
  {
   "cell_type": "code",
   "execution_count": 82,
   "id": "db301db1-bccf-4605-ae2e-5c82cb0dd7f6",
   "metadata": {},
   "outputs": [
    {
     "data": {
      "text/plain": [
       "17"
      ]
     },
     "execution_count": 82,
     "metadata": {},
     "output_type": "execute_result"
    }
   ],
   "source": [
    "(3*4)+5"
   ]
  },
  {
   "cell_type": "code",
   "execution_count": 70,
   "id": "dd86af4f-84c0-4eb1-826b-0467dec93e1f",
   "metadata": {},
   "outputs": [
    {
     "data": {
      "text/plain": [
       "3.3333333333333335"
      ]
     },
     "execution_count": 70,
     "metadata": {},
     "output_type": "execute_result"
    }
   ],
   "source": [
    "# This will convert 200 minutes to hours by dividing by 60\n",
    "minutes = 200\n",
    "hours = minutes / 60\n",
    "hours\n"
   ]
  },
  {
   "cell_type": "markdown",
   "id": "a23dbbb5-2881-42f8-a91a-d1af00fb6898",
   "metadata": {},
   "source": [
    "**Objectives:**\n",
    "\n",
    "- List of popular languages of Data Science\n",
    "- Libraries used in Data Science\n",
    "- Some Algebraic operations in python\n",
    "- Creating a Table"
   ]
  },
  {
   "cell_type": "markdown",
   "id": "d16d3f7a-7228-450e-830e-72baeacd6728",
   "metadata": {},
   "source": [
    "## **Author:** Goddati Ajay Kumar"
   ]
  }
 ],
 "metadata": {
  "kernelspec": {
   "display_name": "Python 3 (ipykernel)",
   "language": "python",
   "name": "python3"
  },
  "language_info": {
   "codemirror_mode": {
    "name": "ipython",
    "version": 3
   },
   "file_extension": ".py",
   "mimetype": "text/x-python",
   "name": "python",
   "nbconvert_exporter": "python",
   "pygments_lexer": "ipython3",
   "version": "3.12.4"
  }
 },
 "nbformat": 4,
 "nbformat_minor": 5
}
