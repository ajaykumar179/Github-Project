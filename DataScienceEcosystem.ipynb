{
 "cells": [
  {
   "cell_type": "markdown",
   "id": "9e5b0b0c-93c7-4154-817e-c38703209ace",
   "metadata": {},
   "source": [
    "# Data Science Tools and Ecosystems"
   ]
  },
  {
   "cell_type": "markdown",
   "id": "ec289103-51a8-482e-a30a-6842e415dc88",
   "metadata": {},
   "source": [
    "**Introduction:**  \n",
    "In this notebook, Data Science Tools and Ecosystem are summarized.\n"
   ]
  },
  {
   "cell_type": "markdown",
   "id": "b4fcae19-0181-4d2b-9de0-5038fbe5586b",
   "metadata": {},
   "source": [
    "**Some of the popular languages that Data Scientists use are:**  \n",
    "- Python  \n",
    "- R  \n",
    "- Julia and so on"
   ]
  },
  {
   "cell_type": "markdown",
   "id": "9b38d652-5045-4dff-b331-e980dbee9c03",
   "metadata": {},
   "source": [
    "**Some of the commonly used libraries used by Data Scientists include:**\n",
    "- Matplotlib  \n",
    "- Pandas  \n",
    "- Numpy  \n",
    "- Seaborn  \n",
    "- and so on  "
   ]
  },
  {
   "cell_type": "markdown",
   "id": "bd336347-eb6f-4fbe-961f-119c889c6049",
   "metadata": {},
   "source": [
    "| Data Science Tools |\n",
    "|--------------------|\n",
    "| Jupyter Notebook   |\n",
    "| RStudio            |\n",
    "| Apache Zeppelin   |\n"
   ]
  },
  {
   "cell_type": "markdown",
   "id": "0e683945-adf9-4e4e-a8e4-02d877b1745a",
   "metadata": {},
   "source": [
    "Below are a few examples of evaluating **Arithmetic expressions** in **Python**"
   ]
  },
  {
   "cell_type": "code",
   "execution_count": 17,
   "id": "773e0828-daca-434a-8ac0-f3e9beb6f743",
   "metadata": {},
   "outputs": [
    {
     "data": {
      "text/plain": [
       "17"
      ]
     },
     "execution_count": 17,
     "metadata": {},
     "output_type": "execute_result"
    }
   ],
   "source": [
    "(3*4)+5"
   ]
  },
  {
   "cell_type": "code",
   "execution_count": 19,
   "id": "0edbb1a6-6e2b-4f38-aa0c-07b722bb1b27",
   "metadata": {},
   "outputs": [
    {
     "data": {
      "text/plain": [
       "3.3333333333333335"
      ]
     },
     "execution_count": 19,
     "metadata": {},
     "output_type": "execute_result"
    }
   ],
   "source": [
    "# This will convert 200 minutes to hours by dividing by 60\n",
    "minutes = 200\n",
    "hours = minutes / 60\n",
    "hours\n"
   ]
  },
  {
   "cell_type": "markdown",
   "id": "74e808fb-371f-498b-bdfb-241a0a54431e",
   "metadata": {},
   "source": [
    "**Objectives:**\n",
    "\n",
    "- List of popular languages of Data Science\n",
    "- Libraries used in Data Science\n",
    "- Some Algebraic operations in python\n",
    "- Creating a Table"
   ]
  },
  {
   "cell_type": "markdown",
   "id": "a037d52e-59cb-4d6c-9c20-c3d803fc7230",
   "metadata": {},
   "source": [
    "## **Author:** Goddati Ajay Kumar"
   ]
  }
 ],
 "metadata": {
  "kernelspec": {
   "display_name": "Python 3 (ipykernel)",
   "language": "python",
   "name": "python3"
  },
  "language_info": {
   "codemirror_mode": {
    "name": "ipython",
    "version": 3
   },
   "file_extension": ".py",
   "mimetype": "text/x-python",
   "name": "python",
   "nbconvert_exporter": "python",
   "pygments_lexer": "ipython3",
   "version": "3.12.4"
  }
 },
 "nbformat": 4,
 "nbformat_minor": 5
}
